{
 "cells": [
  {
   "cell_type": "markdown",
   "metadata": {},
   "source": [
    "# Problem Set 3\n",
    "Tyler Amos\n",
    "\n",
    "\n",
    "# Task 1 and Imports"
   ]
  },
  {
   "cell_type": "code",
   "execution_count": 29,
   "metadata": {},
   "outputs": [],
   "source": [
    "# from https://livebook.manning.com/#!/book/deep-learning-with-python/chapter-2/41\n",
    "\n",
    "from keras.datasets import mnist\n",
    "(train_images, train_labels), (test_images, test_labels) = mnist.load_data()\n",
    "from keras import models\n",
    "from keras import layers\n",
    "import pandas as pd\n",
    "import random\n",
    "random.seed(1234)\n",
    "\n",
    "import matplotlib.pyplot as plt\n"
   ]
  },
  {
   "cell_type": "markdown",
   "metadata": {},
   "source": [
    "# Task 2 - Preprocess Data"
   ]
  },
  {
   "cell_type": "code",
   "execution_count": 30,
   "metadata": {},
   "outputs": [],
   "source": [
    "train_images = train_images.reshape((60000, 28 * 28))\n",
    "train_images = train_images.astype('float32') / 255\n",
    "\n",
    "test_images = test_images.reshape((10000, 28 * 28))\n",
    "test_images = test_images.astype('float32') / 255\n",
    "\n",
    "from keras.utils import to_categorical\n",
    "\n",
    "train_labels = to_categorical(train_labels)\n",
    "test_labels = to_categorical(test_labels)"
   ]
  },
  {
   "cell_type": "markdown",
   "metadata": {},
   "source": [
    "# Task 3"
   ]
  },
  {
   "cell_type": "markdown",
   "metadata": {},
   "source": [
    "# Task 3.i - Initial Model"
   ]
  },
  {
   "cell_type": "code",
   "execution_count": 2,
   "metadata": {},
   "outputs": [],
   "source": [
    "network_i = models.Sequential()\n",
    "\n",
    "# Four dense,fully connected layers\n",
    "network_i.add(layers.Dense(512, activation='relu', input_shape=(28 * 28,)))\n",
    "network_i.add(layers.Dense(512, activation='relu', input_shape=(28 * 28,)))\n",
    "network_i.add(layers.Dense(512, activation='relu', input_shape=(28 * 28,)))\n",
    "network_i.add(layers.Dense(512, activation='relu', input_shape=(28 * 28,)))\n",
    "\n",
    "# Fifth layer using softmax\n",
    "network_i.add(layers.Dense(10, activation='softmax'))\n",
    "network_i.compile(optimizer='rmsprop',\n",
    "                loss='categorical_crossentropy',\n",
    "                metrics=['accuracy'])\n",
    "history_training_i = network_i.fit(train_images, train_labels, epochs=10, batch_size=512)\n",
    "test_loss, test_acc = network_i.evaluate(test_images, test_labels)\n",
    "print('test_acc:', test_acc)"
   ]
  },
  {
   "cell_type": "code",
   "execution_count": 23,
   "metadata": {},
   "outputs": [
    {
     "data": {
      "image/png": "[encoded data removed]",
      "text/plain": [
       "<Figure size 432x288 with 1 Axes>"
      ]
     },
     "metadata": {},
     "output_type": "display_data"
    }
   ],
   "source": [
    "df = pd.DataFrame(history_training_i.history)\n",
    "df.plot()\n",
    "plt.title(\"Task 3.i Accuracy (acc) and Loss by Epoch\")\n",
    "plt.ylabel(\"Accuracy\")\n",
    "plt.xlabel(\"Epoch\");\n"
   ]
  },
  {
   "cell_type": "code",
   "execution_count": 24,
   "metadata": {},
   "outputs": [
    {
     "name": "stdout",
     "output_type": "stream",
     "text": [
      "At epoch 0 the model's performance degrades based on the validation set.\n"
     ]
    }
   ],
   "source": [
    "best_model = 0 # for now, need to figure way to identify\n",
    "\n",
    "print(\"At epoch {} the model's performance degrades based on the validation set.\".format(best_model))"
   ]
  },
  {
   "cell_type": "markdown",
   "metadata": {},
   "source": [
    "# Task 3.ii - Dropout"
   ]
  },
  {
   "cell_type": "code",
   "execution_count": 41,
   "metadata": {},
   "outputs": [
    {
     "name": "stdout",
     "output_type": "stream",
     "text": [
      "Epoch 1/10\n",
      "60000/60000 [==============================] - 19s 313us/step - loss: 0.9251 - acc: 0.6892\n",
      "Epoch 2/10\n",
      "60000/60000 [==============================] - 18s 307us/step - loss: 0.4952 - acc: 0.8442\n",
      "Epoch 3/10\n",
      "60000/60000 [==============================] - 19s 313us/step - loss: 0.4003 - acc: 0.8789\n",
      "Epoch 4/10\n",
      "60000/60000 [==============================] - 18s 295us/step - loss: 0.3592 - acc: 0.8920\n",
      "Epoch 5/10\n",
      "60000/60000 [==============================] - 18s 307us/step - loss: 0.3308 - acc: 0.9011\n",
      "Epoch 6/10\n",
      "60000/60000 [==============================] - 19s 320us/step - loss: 0.3064 - acc: 0.9085\n",
      "Epoch 7/10\n",
      "60000/60000 [==============================] - 19s 309us/step - loss: 0.3014 - acc: 0.9113\n",
      "Epoch 8/10\n",
      "60000/60000 [==============================] - 17s 281us/step - loss: 0.2924 - acc: 0.9172\n",
      "Epoch 9/10\n",
      "60000/60000 [==============================] - 17s 278us/step - loss: 0.2836 - acc: 0.9177\n",
      "Epoch 10/10\n",
      "60000/60000 [==============================] - 17s 287us/step - loss: 0.2845 - acc: 0.9174\n",
      "10000/10000 [==============================] - 2s 190us/step\n",
      "test_acc: 0.9574\n"
     ]
    }
   ],
   "source": [
    "network_ii = models.Sequential()\n",
    "\n",
    "\n",
    "# dropout ref: https://machinelearningmastery.com/dropout-regularization-deep-learning-models-keras/\n",
    "\n",
    "# Four dense,fully connected layers\n",
    "network_ii.add(layers.Dense(512, activation='relu', input_shape=(28 * 28,)))\n",
    "network_ii.add(layers.Dropout(0.5))\n",
    "network_ii.add(layers.Dense(512, activation='relu', input_shape=(28 * 28,)))\n",
    "network_ii.add(layers.Dropout(0.5))\n",
    "network_ii.add(layers.Dense(512, activation='relu', input_shape=(28 * 28,)))\n",
    "network_ii.add(layers.Dropout(0.5))\n",
    "network_ii.add(layers.Dense(512, activation='relu', input_shape=(28 * 28,)))\n",
    "\n",
    "# Fifth layer using softmax\n",
    "network_ii.add(layers.Dense(10, activation='softmax'))\n",
    "\n",
    "network_ii.compile(optimizer='rmsprop',\n",
    "                loss='categorical_crossentropy',\n",
    "                metrics=['accuracy'])\n",
    "history_training_ii = network_ii.fit(train_images, train_labels, epochs=10, batch_size=512)\n",
    "test_loss, test_acc = network_ii.evaluate(test_images, test_labels)\n",
    "print('test_acc:', test_acc)"
   ]
  },
  {
   "cell_type": "code",
   "execution_count": 40,
   "metadata": {},
   "outputs": [
    {
     "data": {
      "image/png": "[encoded data removed]",
      "text/plain": [
       "<Figure size 432x288 with 1 Axes>"
      ]
     },
     "metadata": {},
     "output_type": "display_data"
    }
   ],
   "source": [
    "df = pd.DataFrame(history_training_i.history)\n",
    "df_2 = pd.DataFrame(history_training_ii.history)\n",
    "df.columns = ['accuracy (i)', 'loss (i)']\n",
    "df['accuracy (ii)']  = df_2['acc']\n",
    "df['loss (ii)'] = df_2['loss']\n",
    "df.plot()\n",
    "plt.title(\"Task 3.i and 3.ii Accuracy (acc) and Loss by Epoch\")\n",
    "plt.ylabel(\"Accuracy\")\n",
    "plt.xlabel(\"Epoch\");"
   ]
  },
  {
   "cell_type": "markdown",
   "metadata": {},
   "source": [
    "Something about how they compare....\n",
    "\n",
    "# Task 3.iii, a) - L1 Regularization"
   ]
  },
  {
   "cell_type": "code",
   "execution_count": 44,
   "metadata": {},
   "outputs": [
    {
     "name": "stdout",
     "output_type": "stream",
     "text": [
      "Epoch 1/10\n",
      "60000/60000 [==============================] - 16s 268us/step - loss: 15.4783 - acc: 0.3112\n",
      "Epoch 2/10\n",
      "60000/60000 [==============================] - 16s 261us/step - loss: 5.0256 - acc: 0.5151\n",
      "Epoch 3/10\n",
      "60000/60000 [==============================] - 16s 265us/step - loss: 3.6630 - acc: 0.6109\n",
      "Epoch 4/10\n",
      "60000/60000 [==============================] - 17s 292us/step - loss: 3.0721 - acc: 0.6616\n",
      "Epoch 5/10\n",
      "60000/60000 [==============================] - 19s 309us/step - loss: 2.7072 - acc: 0.7021\n",
      "Epoch 6/10\n",
      "60000/60000 [==============================] - 16s 274us/step - loss: 2.4720 - acc: 0.7300\n",
      "Epoch 7/10\n",
      "60000/60000 [==============================] - 17s 286us/step - loss: 2.3180 - acc: 0.7493\n",
      "Epoch 8/10\n",
      "60000/60000 [==============================] - 19s 311us/step - loss: 2.2113 - acc: 0.7621\n",
      "Epoch 9/10\n",
      "60000/60000 [==============================] - 18s 298us/step - loss: 2.1430 - acc: 0.7667\n",
      "Epoch 10/10\n",
      "60000/60000 [==============================] - 17s 291us/step - loss: 2.0929 - acc: 0.7722\n",
      "10000/10000 [==============================] - 2s 250us/step\n",
      "test_acc: 0.6742\n"
     ]
    }
   ],
   "source": [
    "from keras import regularizers\n",
    "network_iii_a = models.Sequential()\n",
    "\n",
    "# Four dense,fully connected layers\n",
    "network_iii_a.add(layers.Dense(512, activation='relu', input_shape=(28 * 28,), kernel_regularizer = regularizers.l1(0.001)))\n",
    "network_iii_a.add(layers.Dense(512, activation='relu', input_shape=(28 * 28,), kernel_regularizer = regularizers.l1(0.001)))\n",
    "network_iii_a.add(layers.Dense(512, activation='relu', input_shape=(28 * 28,), kernel_regularizer = regularizers.l1(0.001)))\n",
    "network_iii_a.add(layers.Dense(512, activation='relu', input_shape=(28 * 28,), kernel_regularizer = regularizers.l1(0.001)))\n",
    "\n",
    "# Fifth layer using softmax\n",
    "network_iii_a.add(layers.Dense(10, activation='softmax'))\n",
    "network_iii_a.compile(optimizer='rmsprop',\n",
    "                loss='categorical_crossentropy',\n",
    "                metrics=['accuracy'])\n",
    "history_training_iii_a = network_iii_a.fit(train_images, train_labels, epochs=10, batch_size=512)\n",
    "test_loss, test_acc = network_iii_a.evaluate(test_images, test_labels)\n",
    "print('test_acc:', test_acc)"
   ]
  },
  {
   "cell_type": "code",
   "execution_count": 45,
   "metadata": {},
   "outputs": [
    {
     "name": "stdout",
     "output_type": "stream",
     "text": [
      "Epoch 1/10\n",
      "60000/60000 [==============================] - 19s 310us/step - loss: 5.1063 - acc: 0.2195\n",
      "Epoch 2/10\n",
      "60000/60000 [==============================] - 18s 301us/step - loss: 3.2533 - acc: 0.2638\n",
      "Epoch 3/10\n",
      "60000/60000 [==============================] - 17s 275us/step - loss: 2.3950 - acc: 0.3681\n",
      "Epoch 4/10\n",
      "60000/60000 [==============================] - 17s 285us/step - loss: 2.1243 - acc: 0.4384\n",
      "Epoch 5/10\n",
      "60000/60000 [==============================] - 17s 278us/step - loss: 1.9418 - acc: 0.4971\n",
      "Epoch 6/10\n",
      "60000/60000 [==============================] - 17s 288us/step - loss: 1.7915 - acc: 0.5462\n",
      "Epoch 7/10\n",
      "60000/60000 [==============================] - 18s 296us/step - loss: 1.6474 - acc: 0.5917\n",
      "Epoch 8/10\n",
      "60000/60000 [==============================] - 18s 302us/step - loss: 1.5427 - acc: 0.6381\n",
      "Epoch 9/10\n",
      "60000/60000 [==============================] - 17s 279us/step - loss: 1.4908 - acc: 0.6592\n",
      "Epoch 10/10\n",
      "60000/60000 [==============================] - 17s 279us/step - loss: 1.4158 - acc: 0.6882\n",
      "10000/10000 [==============================] - 3s 346us/step\n",
      "test_acc: 0.5813\n"
     ]
    }
   ],
   "source": [
    "# remember to check the type of regularizer\n",
    "from keras import regularizers\n",
    "network_iii_b = models.Sequential()\n",
    "\n",
    "# Four dense,fully connected layers\n",
    "network_iii_b.add(layers.Dense(512, activation='relu', input_shape=(28 * 28,), kernel_regularizer = regularizers.l2(0.001)))\n",
    "network_iii_b.add(layers.Dense(512, activation='relu', input_shape=(28 * 28,), kernel_regularizer = regularizers.l2(0.001)))\n",
    "network_iii_b.add(layers.Dense(512, activation='relu', input_shape=(28 * 28,), kernel_regularizer = regularizers.l2(0.001)))\n",
    "network_iii_b.add(layers.Dense(512, activation='relu', input_shape=(28 * 28,), kernel_regularizer = regularizers.l2(0.001)))\n",
    "\n",
    "# Fifth layer using softmax\n",
    "network_iii_b.add(layers.Dense(10, activation='softmax'))\n",
    "network_iii_b.compile(optimizer='rmsprop',\n",
    "                loss='categorical_crossentropy',\n",
    "                metrics=['accuracy'])\n",
    "history_training_iii_b = network_iii_b.fit(train_images, train_labels, epochs=10, batch_size=512)\n",
    "test_loss, test_acc = network_iii_b.evaluate(test_images, test_labels)\n",
    "print('test_acc:', test_acc)"
   ]
  },
  {
   "cell_type": "code",
   "execution_count": null,
   "metadata": {},
   "outputs": [],
   "source": []
  },
  {
   "cell_type": "code",
   "execution_count": null,
   "metadata": {},
   "outputs": [],
   "source": [
    "# plot initial vs dropout vs l1 vs l2 regularized models"
   ]
  },
  {
   "cell_type": "markdown",
   "metadata": {},
   "source": [
    "Say something about which performs best\n",
    "\n",
    "# Task 3.iv - The Best Model"
   ]
  },
  {
   "cell_type": "code",
   "execution_count": null,
   "metadata": {},
   "outputs": [],
   "source": [
    "# take best peforming model on validation set and retrain on whole training data\n",
    "# compare to baseline model "
   ]
  },
  {
   "cell_type": "code",
   "execution_count": null,
   "metadata": {},
   "outputs": [],
   "source": []
  },
  {
   "cell_type": "markdown",
   "metadata": {},
   "source": [
    "# Task 4 - Boston Housing"
   ]
  },
  {
   "cell_type": "code",
   "execution_count": 46,
   "metadata": {},
   "outputs": [
    {
     "name": "stdout",
     "output_type": "stream",
     "text": [
      "Downloading data from https://s3.amazonaws.com/keras-datasets/boston_housing.npz\n",
      "57344/57026 [==============================] - ETA:  - 0s 1us/step\n"
     ]
    }
   ],
   "source": [
    "from keras.datasets import boston_housing\n",
    "(train_data, train_targets), (test_data, test_targets) = boston_housing.load_data()"
   ]
  },
  {
   "cell_type": "code",
   "execution_count": null,
   "metadata": {},
   "outputs": [],
   "source": []
  },
  {
   "cell_type": "code",
   "execution_count": null,
   "metadata": {},
   "outputs": [],
   "source": []
  },
  {
   "cell_type": "code",
   "execution_count": null,
   "metadata": {},
   "outputs": [],
   "source": []
  },
  {
   "cell_type": "code",
   "execution_count": null,
   "metadata": {},
   "outputs": [],
   "source": []
  }
 ],
 "metadata": {
  "kernelspec": {
   "display_name": "Python 3",
   "language": "python",
   "name": "python3"
  },
  "language_info": {
   "codemirror_mode": {
    "name": "ipython",
    "version": 3
   },
   "file_extension": ".py",
   "mimetype": "text/x-python",
   "name": "python",
   "nbconvert_exporter": "python",
   "pygments_lexer": "ipython3",
   "version": "3.5.1"
  }
 },
 "nbformat": 4,
 "nbformat_minor": 2
}
