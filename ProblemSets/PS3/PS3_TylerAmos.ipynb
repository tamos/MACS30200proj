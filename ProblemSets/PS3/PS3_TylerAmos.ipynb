{
 "cells": [
  {
   "cell_type": "code",
   "execution_count": 14,
   "metadata": {},
   "outputs": [],
   "source": [
    "# from https://livebook.manning.com/#!/book/deep-learning-with-python/chapter-2/41\n",
    "\n",
    "from keras.datasets import mnist\n",
    "(train_images, train_labels), (test_images, test_labels) = mnist.load_data()\n",
    "from keras import models\n",
    "from keras import layers\n",
    "import pandas as pd\n",
    "import random\n",
    "random.seed(1234)\n",
    "\n",
    "import matplotlib.pyplot as plt\n"
   ]
  },
  {
   "cell_type": "code",
   "execution_count": 2,
   "metadata": {},
   "outputs": [],
   "source": [
    "network = models.Sequential()\n",
    "\n",
    "# Four dense,fully connected layers\n",
    "network.add(layers.Dense(512, activation='relu', input_shape=(28 * 28,)))\n",
    "network.add(layers.Dense(512, activation='relu', input_shape=(28 * 28,)))\n",
    "network.add(layers.Dense(512, activation='relu', input_shape=(28 * 28,)))\n",
    "network.add(layers.Dense(512, activation='relu', input_shape=(28 * 28,)))\n",
    "\n",
    "# Fifth layer using softmax\n",
    "network.add(layers.Dense(10, activation='softmax'))\n",
    "network.compile(optimizer='rmsprop',\n",
    "                loss='categorical_crossentropy',\n",
    "                metrics=['accuracy'])\n",
    "\n",
    "train_images = train_images.reshape((60000, 28 * 28))\n",
    "train_images = train_images.astype('float32') / 255\n",
    "\n",
    "test_images = test_images.reshape((10000, 28 * 28))\n",
    "test_images = test_images.astype('float32') / 255\n",
    "\n",
    "from keras.utils import to_categorical\n",
    "\n",
    "train_labels = to_categorical(train_labels)\n",
    "test_labels = to_categorical(test_labels)"
   ]
  },
  {
   "cell_type": "code",
   "execution_count": 3,
   "metadata": {},
   "outputs": [
    {
     "name": "stdout",
     "output_type": "stream",
     "text": [
      "Epoch 1/10\n",
      "60000/60000 [==============================] - 19s 315us/step - loss: 14.1154 - acc: 0.1065\n",
      "Epoch 2/10\n",
      "60000/60000 [==============================] - 17s 275us/step - loss: 14.5200 - acc: 0.0991\n",
      "Epoch 3/10\n",
      "60000/60000 [==============================] - 17s 275us/step - loss: 14.5200 - acc: 0.0991\n",
      "Epoch 4/10\n",
      "60000/60000 [==============================] - 17s 276us/step - loss: 14.5200 - acc: 0.0992\n",
      "Epoch 5/10\n",
      "60000/60000 [==============================] - 17s 279us/step - loss: 14.5200 - acc: 0.0991\n",
      "Epoch 6/10\n",
      "60000/60000 [==============================] - 18s 304us/step - loss: 14.5200 - acc: 0.0992\n",
      "Epoch 7/10\n",
      "60000/60000 [==============================] - 17s 287us/step - loss: 14.5200 - acc: 0.0991\n",
      "Epoch 8/10\n",
      "60000/60000 [==============================] - 16s 274us/step - loss: 14.5200 - acc: 0.0992\n",
      "Epoch 9/10\n",
      "60000/60000 [==============================] - 17s 281us/step - loss: 14.5200 - acc: 0.0992\n",
      "Epoch 10/10\n",
      "60000/60000 [==============================] - 17s 282us/step - loss: 14.5200 - acc: 0.0992\n"
     ]
    }
   ],
   "source": [
    "history_training = network.fit(train_images, train_labels, epochs=10, batch_size=512)\n"
   ]
  },
  {
   "cell_type": "code",
   "execution_count": 4,
   "metadata": {},
   "outputs": [
    {
     "name": "stdout",
     "output_type": "stream",
     "text": [
      "10000/10000 [==============================] - 2s 182us/step\n",
      "test_acc: 0.1009\n"
     ]
    }
   ],
   "source": [
    "test_loss, test_acc = network.evaluate(test_images, test_labels)\n",
    "print('test_acc:', test_acc)"
   ]
  },
  {
   "cell_type": "code",
   "execution_count": 13,
   "metadata": {},
   "outputs": [
    {
     "data": {
      "text/plain": [
       "{'acc': [0.10651666666666666,\n",
       "  0.09914999999602636,\n",
       "  0.09914999999602636,\n",
       "  0.0991500000004967,\n",
       "  0.09914999999602636,\n",
       "  0.09915,\n",
       "  0.09914999999205272,\n",
       "  0.09915000000794728,\n",
       "  0.09915000000397364,\n",
       "  0.09915000000397364],\n",
       " 'loss': [14.115412140401205,\n",
       "  14.519992173258464,\n",
       "  14.519992181396484,\n",
       "  14.519992170715332,\n",
       "  14.519992197672526,\n",
       "  14.519992171223958,\n",
       "  14.519992225646973,\n",
       "  14.51999214223226,\n",
       "  14.519992162577312,\n",
       "  14.519992142740886]}"
      ]
     },
     "execution_count": 13,
     "metadata": {},
     "output_type": "execute_result"
    }
   ],
   "source": [
    "history_training.history"
   ]
  },
  {
   "cell_type": "code",
   "execution_count": 21,
   "metadata": {},
   "outputs": [
    {
     "data": {
      "image/png": "[encoded data removed]",
      "text/plain": [
       "<Figure size 432x288 with 1 Axes>"
      ]
     },
     "metadata": {},
     "output_type": "display_data"
    }
   ],
   "source": [
    "df = pd.DataFrame(history_training.history)\n",
    "df.plot()\n",
    "plt.title(\"Task 3.i Accuracy (acc) and Loss by Epoch\")\n",
    "plt.ylabel(\"Accuracy\")\n",
    "plt.xlabel(\"Epoch\");"
   ]
  },
  {
   "cell_type": "code",
   "execution_count": 22,
   "metadata": {},
   "outputs": [
    {
     "name": "stdout",
     "output_type": "stream",
     "text": [
      "At epoch 0 the model's performance degrades based on the validation set.\n"
     ]
    }
   ],
   "source": [
    "best_model = 0 # for now, need to figure way to identify\n",
    "\n",
    "print(\"At epoch {} the model's performance degrades based on the validation set.\".format(best_model))"
   ]
  },
  {
   "cell_type": "code",
   "execution_count": null,
   "metadata": {},
   "outputs": [],
   "source": []
  }
 ],
 "metadata": {
  "kernelspec": {
   "display_name": "Python 3",
   "language": "python",
   "name": "python3"
  },
  "language_info": {
   "codemirror_mode": {
    "name": "ipython",
    "version": 3
   },
   "file_extension": ".py",
   "mimetype": "text/x-python",
   "name": "python",
   "nbconvert_exporter": "python",
   "pygments_lexer": "ipython3",
   "version": "3.5.1"
  }
 },
 "nbformat": 4,
 "nbformat_minor": 2
}
